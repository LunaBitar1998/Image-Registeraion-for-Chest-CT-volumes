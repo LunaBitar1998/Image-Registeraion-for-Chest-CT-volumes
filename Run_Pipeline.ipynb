{
 "cells": [
  {
   "cell_type": "code",
   "execution_count": null,
   "id": "cfb9ed4a-9537-48d1-bae3-1710f0364f14",
   "metadata": {},
   "outputs": [],
   "source": [
    "import os\n",
    "from main import main\n",
    "\n",
    "# User-defined inputs (update these paths as needed)\n",
    "base_path = r\"C:\\path\\to\\data\"  # <-- CHANGE THIS to the location of your dataset\n",
    "image_number = 2  # Image ID to process\n",
    "image_dimensions = (512, 512, 102)  # Update dimensions based on the image\n",
    "voxel_size = (0.645, 0.645, 2.5)    # Update voxel size based on the image\n",
    "\n",
    "# Define Elastix and Transformix Paths\n",
    "elastix_path = r\"C:\\path\\to\\elastix.exe\"  # <-- CHANGE THIS to the location of elastix.exe\n",
    "transformix_path = r\"C:\\path\\to\\transformix.exe\"  # <-- CHANGE THIS to the location of transformix.exe\n",
    "\n",
    "# Parameter files\n",
    "affine_param_file = r\"C:\\path\\to\\Parameters.Par0011.affine.txt\"  # <-- CHANGE THIS\n",
    "bspline_param_file = r\"C:\\path\\to\\Parameters.Par0011.bspline1_s.txt\"  # <-- CHANGE THIS\n",
    "\n",
    "# Run the pipeline\n",
    "main(base_path, image_number, image_dimensions, voxel_size, elastix_path, transformix_path, affine_param_file, bspline_param_file) \n"
   ]
  }
 ],
 "metadata": {
  "kernelspec": {
   "display_name": "Python 3 (ipykernel)",
   "language": "python",
   "name": "python3"
  },
  "language_info": {
   "codemirror_mode": {
    "name": "ipython",
    "version": 3
   },
   "file_extension": ".py",
   "mimetype": "text/x-python",
   "name": "python",
   "nbconvert_exporter": "python",
   "pygments_lexer": "ipython3",
   "version": "3.12.4"
  }
 },
 "nbformat": 4,
 "nbformat_minor": 5
}
